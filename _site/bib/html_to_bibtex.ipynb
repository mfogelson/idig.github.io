{
 "cells": [
  {
   "cell_type": "code",
   "execution_count": 1,
   "metadata": {},
   "outputs": [],
   "source": [
    "import html\n",
    "from html.parser import HTMLParser\n",
    "import requests\n",
    "from bs4 import BeautifulSoup\n",
    "import title2bib"
   ]
  },
  {
   "cell_type": "code",
   "execution_count": 2,
   "metadata": {},
   "outputs": [],
   "source": [
    "text = open(\"test_bib.html\", 'r')"
   ]
  },
  {
   "cell_type": "code",
   "execution_count": 3,
   "metadata": {},
   "outputs": [],
   "source": [
    "class MyHTMLParser(HTMLParser):\n",
    "    def handle_data(self, data):\n",
    "        self.data.append(data)\n",
    "        # print(\"Encountered a data: \", data)"
   ]
  },
  {
   "cell_type": "code",
   "execution_count": 4,
   "metadata": {},
   "outputs": [
    {
     "name": "stdout",
     "output_type": "stream",
     "text": [
      "zsh:1: no matches found: alone?\n",
      "Traceback (most recent call last):\n",
      "  File \"/Users/mitchfogelson/opt/miniconda3/envs/google_scholar/bin/title2bib\", line 85, in <module>\n",
      "    main()\n",
      "  File \"/Users/mitchfogelson/opt/miniconda3/envs/google_scholar/bin/title2bib\", line 71, in main\n",
      "    found, bib = get_bib_from_title(title, get_first)\n",
      "  File \"/Users/mitchfogelson/opt/miniconda3/envs/google_scholar/lib/python3.9/site-packages/title2bib/crossref.py\", line 86, in get_bib_from_title\n",
      "    found, item = get_from_title(title, get_first)\n",
      "  File \"/Users/mitchfogelson/opt/miniconda3/envs/google_scholar/lib/python3.9/site-packages/title2bib/crossref.py\", line 52, in get_from_title\n",
      "    title_item = item[\"title\"][0]\n",
      "KeyError: 'title'\n",
      "zsh:1: number expected\n",
      "zsh:1: no matches found: Design?\n",
      "zsh:1: no matches found: inspiration?\n",
      "Traceback (most recent call last):\n",
      "  File \"/Users/mitchfogelson/opt/miniconda3/envs/google_scholar/bin/title2bib\", line 85, in <module>\n",
      "    main()\n",
      "  File \"/Users/mitchfogelson/opt/miniconda3/envs/google_scholar/bin/title2bib\", line 71, in main\n",
      "    found, bib = get_bib_from_title(title, get_first)\n",
      "  File \"/Users/mitchfogelson/opt/miniconda3/envs/google_scholar/lib/python3.9/site-packages/title2bib/crossref.py\", line 86, in get_bib_from_title\n",
      "    found, item = get_from_title(title, get_first)\n",
      "  File \"/Users/mitchfogelson/opt/miniconda3/envs/google_scholar/lib/python3.9/site-packages/title2bib/crossref.py\", line 52, in get_from_title\n",
      "    title_item = item[\"title\"][0]\n",
      "KeyError: 'title'\n",
      "Traceback (most recent call last):\n",
      "  File \"/Users/mitchfogelson/opt/miniconda3/envs/google_scholar/bin/title2bib\", line 85, in <module>\n",
      "    main()\n",
      "  File \"/Users/mitchfogelson/opt/miniconda3/envs/google_scholar/bin/title2bib\", line 71, in main\n",
      "    found, bib = get_bib_from_title(title, get_first)\n",
      "  File \"/Users/mitchfogelson/opt/miniconda3/envs/google_scholar/lib/python3.9/site-packages/title2bib/crossref.py\", line 86, in get_bib_from_title\n",
      "    found, item = get_from_title(title, get_first)\n",
      "  File \"/Users/mitchfogelson/opt/miniconda3/envs/google_scholar/lib/python3.9/site-packages/title2bib/crossref.py\", line 52, in get_from_title\n",
      "    title_item = item[\"title\"][0]\n",
      "KeyError: 'title'\n",
      "zsh:1: no matches found: (2001).\n",
      "Traceback (most recent call last):\n",
      "  File \"/Users/mitchfogelson/opt/miniconda3/envs/google_scholar/bin/title2bib\", line 85, in <module>\n",
      "    main()\n",
      "  File \"/Users/mitchfogelson/opt/miniconda3/envs/google_scholar/bin/title2bib\", line 71, in main\n",
      "    found, bib = get_bib_from_title(title, get_first)\n",
      "  File \"/Users/mitchfogelson/opt/miniconda3/envs/google_scholar/lib/python3.9/site-packages/title2bib/crossref.py\", line 86, in get_bib_from_title\n",
      "    found, item = get_from_title(title, get_first)\n",
      "  File \"/Users/mitchfogelson/opt/miniconda3/envs/google_scholar/lib/python3.9/site-packages/title2bib/crossref.py\", line 52, in get_from_title\n",
      "    title_item = item[\"title\"][0]\n",
      "KeyError: 'title'\n",
      "Traceback (most recent call last):\n",
      "  File \"/Users/mitchfogelson/opt/miniconda3/envs/google_scholar/bin/title2bib\", line 85, in <module>\n",
      "    main()\n",
      "  File \"/Users/mitchfogelson/opt/miniconda3/envs/google_scholar/bin/title2bib\", line 71, in main\n",
      "    found, bib = get_bib_from_title(title, get_first)\n",
      "  File \"/Users/mitchfogelson/opt/miniconda3/envs/google_scholar/lib/python3.9/site-packages/title2bib/crossref.py\", line 86, in get_bib_from_title\n",
      "    found, item = get_from_title(title, get_first)\n",
      "  File \"/Users/mitchfogelson/opt/miniconda3/envs/google_scholar/lib/python3.9/site-packages/title2bib/crossref.py\", line 52, in get_from_title\n",
      "    title_item = item[\"title\"][0]\n",
      "KeyError: 'title'\n"
     ]
    }
   ],
   "source": [
    "titles = []\n",
    "for line in text:\n",
    "    parser = MyHTMLParser()\n",
    "    parser.data = []\n",
    "    parser.feed(line)\n",
    "    # print(parser.data)\n",
    "    titles.append(parser.data[2])\n",
    "    \n",
    "\n",
    "for title in titles:\n",
    "    !title2bib $title -f -y >> bibtex.txt\n",
    "    # break"
   ]
  },
  {
   "cell_type": "code",
   "execution_count": 5,
   "metadata": {},
   "outputs": [
    {
     "data": {
      "text/plain": [
       "['Decoding the Agility of Artificial Intelligence-Assisted Human Design Teams',\n",
       " 'When Faced with Increasing Complexity: The Effectiveness of AI Assistance for Drone Design',\n",
       " 'Human versus Artificial Intelligence: A Data-Driven Approach to Real-Time Process Management During Complex Engineering Design',\n",
       " 'Design Strategy Network: A deep hierarchical framework to represent generative design strategies in complex action spaces',\n",
       " 'Human confidence in artificial intelligence and in themselves: The evolution and impact of confidence on adoption of AI advice',\n",
       " 'Determinants of creative thinking: The effect of task characteristics on in solving Remote Associate Test problems',\n",
       " 'Goal-Directed Design Agents: Integrating Visual Imitation with One-step Lookahead Optimization for Generative Design',\n",
       " 'Attention Affordances: Applying Attention Theory in the Design of Complex Visual Interfaces',\n",
       " 'The Influence of Process Management: Uncovering the Impact of Real-Time Interventions via a Topic Modeling Approach',\n",
       " 'Data on the Design and Operation of Drones by Both Individuals and Teams',\n",
       " 'A Strategic Decision-making Architecture Toward Hybrid Teams for Dynamic Competitive Problems',\n",
       " 'Taking the Guess Work Out of the Initial Guess: A Solution Interval Method for Least-Squares Parameter Estimation in Nonlinear Models',\n",
       " 'Generating DNA origami nanostructures through shape annealing',\n",
       " 'Only as Strong as the Strongest Link: The Relative Contribution of Individual Team Member Proficiency in Configuration Design',\n",
       " 'An Adversarial Agent-Based Design Method Using Stochastic Stackelberg Game Conditions',\n",
       " 'A Cautionary Tale on Human-AI Collaboration Design Teams',\n",
       " 'Written in Blood: Applying Shape Grammars to Retinal Vasculatures',\n",
       " 'Decidual Vasculopathy Identification in Whole Slide Images Using Multiresolution Hierarchical Convolutional Neural Networks',\n",
       " 'Data-Driven Heuristic Induction from Human Design Behavior',\n",
       " 'Adaptive Inspirational Design Stimuli: Using Design Output to Computationally Search for Stimuli that Impact Concept Generation',\n",
       " 'Transferring design strategies from Human to Computer and Across Design Problems',\n",
       " 'Heuristic-Guided Solution Search through a Two-Tiered Design Grammar',\n",
       " 'Learning to Design from Humans: Imitating Human Designers Through Deep Learning',\n",
       " 'Applying Machine Learning Methods toward Classification based on Small Datasets: Application to Shoulder Labral Tears',\n",
       " 'Wisdom of Micro-Crowds in Evaluating Solutions to Esoteric Engineering Problems',\n",
       " 'Crowdsourcing inspiration: Using crowd generated inspirational stimuli to support designer ideation',\n",
       " 'Are you better off alone? Mitigating the underperformance of engineering teams during conceptual design through adaptive process management',\n",
       " 'A neuroimaging investigation of design ideation with and without inspirational stimuli - understanding the meaning of near and far stimuli',\n",
       " 'Silence is golden: The effect of verbalization on group performance.',\n",
       " 'Data on the Design of Truss Structures by Teams of Engineering Students',\n",
       " 'Efficient probabilistic grammar induction for design',\n",
       " 'P-V (Power-Velocity) Process Design Charts for Powder Bed Additive Manufacturing',\n",
       " 'Data on the Configuration Design of Internet-Connected Home Cooling Systems by Engineering Students',\n",
       " 'The Facilitating Role of Task Alternation on Group Idea Generation',\n",
       " 'Robust mechanobiological behavior emerges in heterogeneous myosin systems',\n",
       " 'Mining Process Heuristics from Designer Action Data via Hidden Markov Models',\n",
       " 'Capturing Human Sequence-Learning Abilities in Configuration Design Tasks through Markov Chains',\n",
       " 'The Effect of Product Representation in Visual Conjoint Analysis',\n",
       " 'Inside the Mind: Using Neuroimaging to Understand Moral Product Preference Judgments Involving Sustainability',\n",
       " 'Optimizing Design Teams Based on Problem Properties: Computational Team Simulations and an Applied Empirical Test',\n",
       " 'Impossible by Design? Fairness, Manipulation, and Arrow�s Impossibility Theorem',\n",
       " 'Interrupted: the roles of distributed effort and incubation in preventing fixation and generating problem solutions.',\n",
       " 'The D3 Methodology: Bridging Science and Design for Bio-based Product Development',\n",
       " 'Drawing Inspiration From Human Design Teams for Better Search and Optimization: The Heterogeneous Simulated Annealing Teams Algorithm',\n",
       " 'Empirical Studies of Design Thinking: Past, Present, Future',\n",
       " 'Exploring the Role of Interaction Effects in Visual Conjoint Analysis',\n",
       " 'A Hybrid Extended Pattern Search/Genetic Algorithm for Multi-Stage Wind Farm Optimization.',\n",
       " 'An Advanced Modeling System for Optimization of Wind Farm Layout and Wind Turbine Sizing Using a Multi-Level Extended Pattern Search Algorithm.',\n",
       " 'Improving human understanding and design of complex multi-level systems with animation and parametric relationship supports',\n",
       " 'The Impact of Sustainability on Consumer Preference Judgments of Product Attributes',\n",
       " 'Lifting the Veil: Drawing insights about design teams from a cognitively-inspired computational model.',\n",
       " 'Fixation or inspiration? A meta-analytic review of the role of examples on design processes',\n",
       " 'Synergistic Human-Agent Methods for Deriving Effective Search Strategies: The Case of Nanoscale Design',\n",
       " 'Emergent Systems Energy Laws for Predicting Myosin Ensemble Processivity',\n",
       " 'Modeling Aggregate Preference For Form and Function Through Metaconjoint Analysis',\n",
       " 'Rolling with the Punches: An Examination of Team Performance in a Design Task Subject to Drastic Changes',\n",
       " 'Experiential Conjoint Analysis: An Experience-based Method for Eliciting, Capturing, and Modeling Consumer Preference',\n",
       " 'Design of Complex Biologically-Based Nanoscale Systems Using Multi-Agent Simulations and Structure-Behavior-Function Representations',\n",
       " 'Expert Representation of Design Repository Space: A Comparison to and Validation of Algorithmic Output',\n",
       " 'Understanding Consumer Tradeoffs Between Form and Function Through Meta-Conjoint and Cognitive Neuroscience Analyses',\n",
       " 'Discovering Structure in Design Databases Through Functional and Surface Based Mapping',\n",
       " 'The Meaning of \"Near\" and \"Far\": The Impact of Structuring Design Databases and the Effect of Distance of Analogy on Design Output',\n",
       " 'Form Function Fidelity',\n",
       " 'Concurrent Optimization of Computationally Learned Stylistic Form and Functional Goals',\n",
       " 'An Extended Pattern Search Approachh to Wind Farm Layout Optimization',\n",
       " 'Search Strategies in Evolutionary Multi-Agent Systems: The Effect of Cooperation and Reward on Solution Quality',\n",
       " 'On the Benefits and Pitfalls of Analogies for Innovative Design: Ideation Performance Based on Analogical Distance, Commonness, and Modality of Examples',\n",
       " 'Computer-Based Design Synthesis Research: An Overview',\n",
       " 'The Effect on Incidental Hints When Problems Are Suspended Before During Or After An Impasse',\n",
       " 'Protocol-based Multi-Agent Systems: Examining the Effect of Diversity, Dynamism, and Cooperation in Heuristic Optimization Approaches',\n",
       " 'The European Business Review, ',\n",
       " 'Understanding of Emotions and Reasoning During Consumer Tradeoff Between Function and Aesthetics in Product Design',\n",
       " 'Design Team Convergence: The Influence of Example Solution Quality',\n",
       " 'A Study of Design Fixation, Its Mitigation and Perception in Engineering Design Faculty',\n",
       " 'Automatically Generating Form Concepts According to Consumer Preference: A Shape Grammar Implementation with Software Agents',\n",
       " 'Evolutionary Multi-Agent Systems: An Adaptive and Dynamic Approach to Optimization',\n",
       " 'Multiagent Shape Grammar Implementation: Automatically Generating Form Concepts According to a Preference Function',\n",
       " 'A Step-by-Step Process to Build Valued Brands',\n",
       " 'Unlocking Organizational Potential: A Computational Platform for Investigating Structural Interdependence in Design',\n",
       " 'Quantifying Aesthetic Form Preference in a Utility Function',\n",
       " 'The role of timing and analogical similarity in the stimulation of idea generation in design',\n",
       " 'Cognitive-based Engineering Design: An emerging direction of engineering research',\n",
       " 'A Methodology for Creating a Statistically Derived Shape Grammar Composed of Non-Obvious Shape Chunks',\n",
       " 'Research in Engineering Design',\n",
       " 'The Influence of Open Goals on the Acquisition of Problem-Relevant Information',\n",
       " 'Objective Function Effect Based Pattern Search - Theoretical Framework Inspired by 3D Component Layout',\n",
       " 'Objective Function Effect Based Pattern Search - An Implementation for 3D Component Layout',\n",
       " 'Creating Cross-Over Vehicles: Defining and Combining Vehicle Classes Using Shape Grammars',\n",
       " 'The Role of Functionality in the Mental Representations of Engineering STudents: Some Differences in the Early STates of Expertise',\n",
       " 'Curve-Based Shape Matching – Supporting Designers’ Hierarchies Through Parametric Shape Recognition of Arbitrary Geometry',\n",
       " 'A Framework for Computational Design Synthesis - Model and Applications',\n",
       " 'Inter-Agent Ties in Computational Configuration Design',\n",
       " 'Learning from Design Experience in an Agent-Based Design System',\n",
       " 'Computational Conceptualization of Automatic Transmission Layout',\n",
       " 'An Agent Based Optimization Approach to Manufacturing Process Planning',\n",
       " 'Exploring the Effectiveness of Various Patterns in an Extended Pattern Search Layout Algorithm',\n",
       " 'Speaking the Buick Language: Capturing, Understanding, and Exploring Brand Identity with Shape Grammars',\n",
       " 'Proceedings of the 2003 SAE Technical Conferences 03ANNUAL-55',\n",
       " 'The A-Design Approach to Managing Automated Design Synthesis',\n",
       " 'Proceedings of the 2002 ASME Design Engineering Technical Conferences: Design Theory and Methodology Conference, DTM-34004',\n",
       " 'Supporting Designer’s Hierarchies Through Parametric Shape Recognition',\n",
       " 'Designing Inner Hood Panels Through a Shape Grammar-based Framework',\n",
       " 'Capturing a Rebel:  Modeling the Harley-Davidson Brand through a Motorcycle Shape Grammar ',\n",
       " 'A Survey of Computational Approaches to Three-dimensional Layout Problems',\n",
       " 'to appear: Proceedings of the 2001 ASME Design Engineering Technical Conferences: Design Theory and Methodology Conference, DETC2001/DTM-21681, September 9-12, Pittsburgh, PA, (2001).',\n",
       " 'in: Antonsson, E. K., and J. Cagan. eds',\n",
       " 'in: Antonsson, E. K., and J. Cagan. eds',\n",
       " 'On the use of Shape Grammars as Expert Systems for Geometry based Engineering Design',\n",
       " 'A Micro Language: Generating MEMS Resonators using a Coupled Form-Function Shape Grammar',\n",
       " 'An Extended Pattern Search Algorithm for Three-Dimensional Component Layout',\n",
       " 'Agent-based Synthesis of Electro-Mechanical Design Configurations',\n",
       " 'Proceedings of the 1999 ASME Design Engineering Technical Conferences: Design Theory and Methodology Conference',\n",
       " 'A Conceptual Framework for Combining Artificial Intelligence and Optimization in Engineering Design',\n",
       " 'Languages and Semantics of Grammatical Discrete Structures',\n",
       " 'Influencing Generative Design Through Continuous Evaluation: Associating Costs with the CoffeeMaker Shape Grammar',\n",
       " 'A-Design: An Agent-Based Approach to Conceptual Design in a Dynamic Environment',\n",
       " 'The Design of Novel Roof Trusses with Shape Annealing: Assessing the Ability of a Computational Method in Aiding Structural Designers with Varying Design Intent',\n",
       " 'A Simulated Annealing-Based Algorithm Using Hierarchical Models for General Three-Dimensional Component Layout',\n",
       " 'Sampling Uncertainty in Coordinate Measurement Data Analysis',\n",
       " 'An Integrated Approach to Optimal Three Dimensional Layout and Routing',\n",
       " 'Optimal Configuration Design: An Integrated Approach Using Grammars',\n",
       " 'in: Proceedings of the 1998 ASME Design Engineering Technical Conferences: Design Automation Conference, DETC98/DAC-6012',\n",
       " 'A Blend of Different Tastes: The Language of Coffee Makers',\n",
       " 'Teaching Integrated Product Development: Educational Innovation at Carnegie Mellon University',\n",
       " 'GGREADA: A Graph Grammar-Based Machine Design Algorithm',\n",
       " 'Simulated Annealing and the Generation of the Objective Function: A Model of Learning During Problem Solving',\n",
       " 'Innovative Dome Design: Applying Geodesic Patterns with Shape Annealing',\n",
       " 'Optimized Process Planning by Generative Simulated Annealing',\n",
       " 'A Shape Annealing Approach to Optimal Truss Design with Dynamic Grouping of Members',\n",
       " 'Use of a Quality Loss Function to Select Statistical Tolerances',\n",
       " 'Optimal Three-Dimensional Placement of Heat Generating Electronic Components',\n",
       " 'Optimized Process Planning by Generative Simulated Annealing',\n",
       " 'A Conceptual Framework for Combining Artificial Intelligence and Optimization in Engineering Design',\n",
       " 'Constrained Three Dimensional Component Layout Using Simulated Annealing',\n",
       " 'in: Proceedings of the 1996 ASME Design Engineering Technical Conferences and Computers in Engineering Conference: Design Automation Conference, 96-DETC/DAC-1479',\n",
       " 'Activity Analysis: Simplifying Optimal Design Problems Through Qualitative Partitioning',\n",
       " 'Synthesis of Optimal Non-Orthogonal Routes',\n",
       " 'Recursive Annealing: A Computational Model for Machine Design',\n",
       " 'An Improved Shape Annealing Algorithm For Truss Topology Generation',\n",
       " 'Optimally Directed Truss Topology Generation Using Shape Annealing',\n",
       " 'A Simulated Annealing-Based Approach to Three-Dimensional Component Packing',\n",
       " 'Shape Annealing Solution to the Constrained Geometric Knapsack Problem',\n",
       " 'published in proceedings: DE-Vol 65-1, Advances in Design Automation, ASME',\n",
       " 'Economic Analysis of Quality Innovation in Design and Manufacturing',\n",
       " 'Optimally Directed Shape Generation by Shape Annealing',\n",
       " 'Input Variable Expansion - An Algorithmic Design Generation Technique',\n",
       " 'Inducing Constraint Activity in Innovative Design',\n",
       " 'Inducing Optimally Directed Innovative Designs from Chemical Engineering First Principles',\n",
       " 'Dimensional Variable Expansion - A Formal Approach to Innovative Design',\n",
       " 'Innovative Design of Mechanical Structures from First Principles',\n",
       " 'PLASHTRAN - An Expert Consultant on Two-Dimensional Finite Element Modelling Techniques',\n",
       " 'Large Deflection Stability of Spherical Shells with Ring Loads']"
      ]
     },
     "execution_count": 5,
     "metadata": {},
     "output_type": "execute_result"
    }
   ],
   "source": [
    "titles"
   ]
  },
  {
   "cell_type": "code",
   "execution_count": 11,
   "metadata": {},
   "outputs": [],
   "source": [
    "#Selector Gaget: #6uTWttNVvUcJ , .gs_scl:nth-child(1) .gs_or_btn.gs_nph\n",
    "# //*[(@id = \"6uTWttNVvUcJ\")] | //*[contains(concat( \" \", @class, \" \" ), concat( \" \", \"gs_scl\", \" \" )) and (((count(preceding-sibling::*) + 1) = 1) and parent::*)]//*[contains(concat( \" \", @class, \" \" ), concat( \" \", \"gs_or_btn\", \" \" )) and contains(concat( \" \", @class, \" \" ), concat( \" \", \"gs_nph\", \" \" ))]"
   ]
  },
  {
   "cell_type": "code",
   "execution_count": 12,
   "metadata": {},
   "outputs": [],
   "source": [
    "headers = {\n",
    "    'User-agent': 'Mozilla/5.0 (Windows NT 10.0; Win64; x64) AppleWebKit/537.36 (KHTML, like Gecko) Chrome/105.0.0.0 Safari/537.36'\n",
    "}\n",
    "# https://requests.readthedocs.io/en/latest/user/quickstart/#passing-parameters-in-urls\n",
    "params = {\n",
    "    'q': 'Decoding the Agility of Artificial Intelligence-Assisted Human Design Team',  # search query\n",
    "    'hl': 'en'       # language of the search\n",
    "}"
   ]
  },
  {
   "cell_type": "code",
   "execution_count": 13,
   "metadata": {},
   "outputs": [],
   "source": [
    "html = requests.get('https://scholar.google.com/scholar', headers=headers, params=params).text"
   ]
  },
  {
   "cell_type": "code",
   "execution_count": 14,
   "metadata": {},
   "outputs": [],
   "source": [
    "soup = BeautifulSoup(html, 'lxml')"
   ]
  },
  {
   "cell_type": "code",
   "execution_count": 30,
   "metadata": {},
   "outputs": [],
   "source": [
    "data = []\n",
    "    # Container where all needed data is located\n",
    "for result in soup.select('.gs_r.gs_or.gs_scl'):\n",
    "    # print(result)\n",
    "    title = result.select_one('.gs_rt').text.replace(\"[HTML] \", '').replace(\"[HTML]\", '')\n",
    "    title_link = result.select_one('.gs_rt a')['href']\n",
    "    publication_info = result.select_one('.gs_a').text\n",
    "    snippet = result.select_one('.gs_rs').text\n",
    "    cited_by = result.select_one('#gs_res_ccl_mid .gs_nph+ a')['href']\n",
    "    try:\n",
    "        pdf_link = result.select_one('.gs_or_ggsm a:nth-child(1)')['href']\n",
    "    except: \n",
    "        pdf_link = None\n",
    "            \n",
    "    data.append({\n",
    "            'title': title,\n",
    "            'title_link': title_link,\n",
    "            'publication_info': publication_info,\n",
    "            'snippet': snippet,\n",
    "            'cited_by': f'https://scholar.google.com{cited_by}',\n",
    "            \"pdf_link\": pdf_link\n",
    "        })"
   ]
  },
  {
   "cell_type": "code",
   "execution_count": 31,
   "metadata": {},
   "outputs": [
    {
     "data": {
      "text/plain": [
       "[{'title': 'Decoding the agility of artificial intelligence-assisted human design teams',\n",
       "  'title_link': 'https://www.sciencedirect.com/science/article/pii/S0142694X2200014X',\n",
       "  'publication_info': 'B Song, NFS Zurita, JT Gyory, G Zhang, C McComb…\\xa0- Design Studies, 2022 - Elsevier',\n",
       "  'snippet': 'Although necessary for complex problem solving, such as engineering design, team agility is often difficult to achieve in practice. The evolution of Artificial Intelligence (AI) affords unique opportunities for supporting team problem solving. While integrating assistive AI agents into human teams has at times improved team performance, it is still unclear if, how, and why AI affects team agility. A large-scale human experiment answers these questions, revealing that, with appropriately interfaced AIs, AI-assisted human teams enjoy improved\\xa0…',\n",
       "  'cited_by': 'https://scholar.google.com/scholar?cites=12483581656711157753&as_sdt=5,39&sciodt=0,39&hl=en',\n",
       "  'pdf_link': 'https://www.sciencedirect.com/science/article/pii/S0142694X2200014X'}]"
      ]
     },
     "execution_count": 31,
     "metadata": {},
     "output_type": "execute_result"
    }
   ],
   "source": [
    "data"
   ]
  },
  {
   "cell_type": "code",
   "execution_count": null,
   "metadata": {},
   "outputs": [],
   "source": [
    "# https://scholar.google.com/scholar?hl=en&as_sdt=0%2C39&q=%E2%80%9CComparing+the+Impacts+on+Team+Behaviors+Between+Artificial+Intelligence+and+Human+Process+Management+in+Interdisciplinary+Design+Teams.%E2%80%9D+&btnG=#d=gs_cit&t=1671985938069&u=%2Fscholar%3Fq%3Dinfo%3A6uTWttNVvUcJ%3Ascholar.google.com%2F%26output%3Dcite%26scirp%3D0%26hl%3Den\n",
    "# https://scholar.googleusercontent.com/scholar.bib?q=info:6uTWttNVvUcJ:scholar.google.com/&output=citation&scisdr=CgXLE6tKEOjcnjF7ci0:AAGBfm0AAAAAY6h9ai3OoCVZZdC3S68KYkX1oV9KywnZ&scisig=AAGBfm0AAAAAY6h9aosatiH2XInXOS04CSKc7mZ1A-bK&scisf=4&ct=citation&cd=-1&hl=en"
   ]
  },
  {
   "cell_type": "code",
   "execution_count": 35,
   "metadata": {},
   "outputs": [
    {
     "data": {
      "text/plain": [
       "True"
      ]
     },
     "execution_count": 35,
     "metadata": {},
     "output_type": "execute_result"
    }
   ],
   "source": [
    "https://scholar.googleusercontent.com/scholar.bib?q=info:-dfZPGCXPq0J:scholar.google.com/&output=citation&scisdr=CgXLE6tKEOjcnjF7ci0:AAGBfm0AAAAAY6h9ai3OoCVZZdC3S68KYkX1oV9KywnZ&scisig=AAGBfm0AAAAAY6h9aosatiH2XInXOS04CSKc7mZ1A-bK&scisf=4&ct=citation&cd=-1&hl=en\n"
   ]
  },
  {
   "cell_type": "code",
   "execution_count": 43,
   "metadata": {},
   "outputs": [
    {
     "name": "stdout",
     "output_type": "stream",
     "text": [
      "['<div class=\"gs_r gs_or gs_scl\" data-cid=\"-dfZPGCXPq0J\" data-did=\"-dfZPGCXPq0J\" data-lid=\"\" data-aid=\"-dfZPGCXPq0J\" data-rp=\"0\"><div class=\"gs_ggs gs_fl\"><div class=\"gs_ggsd\"><div class=\"gs_or_ggsm\" ontouchstart=\"gs_evt_dsp(event)\" tabindex=\"-1\"><a href=\"https://www.sciencedirect.com/science/article/pii/S0142694X2200014X\" data-clk=\"hl=en&amp;sa=T&amp;oi=gga&amp;ct=gga&amp;cd=0&amp;d=12483581656711157753&amp;ei=-ICoY6asKoiEmgGExYqICQ\" data-clk-atid=\"-dfZPGCXPq0J\"><span class=\"gs_ctg2\">[HTML]</span> sciencedirect.com</a></div></div></div><div class=\"gs_ri\"><h3 class=\"gs_rt\" ontouchstart=\"gs_evt_dsp(event)\"><span class=\"gs_ctc\"><span class=\"gs_ct1\">[HTML]</span><span class=\"gs_ct2\">[HTML]</span></span> <a id=\"-dfZPGCXPq0J\" href=\"https://www.sciencedirect.com/science/article/pii/S0142694X2200014X\" data-clk=\"hl=en&amp;sa=T&amp;oi=ggp&amp;ct=res&amp;cd=0&amp;d=12483581656711157753&amp;ei=-ICoY6asKoiEmgGExYqICQ\" data-clk-atid=\"-dfZPGCXPq0J\">Decoding the agility of artificial intelligence-assisted human design teams</a></h3><div class=\"gs_a\"><a href=\"/citations?user=7C-AHCkAAAAJ&amp;hl=en&amp;oi=sra\">B Song</a>, <a href=\"/citations?user=eet4Tq4AAAAJ&amp;hl=en&amp;oi=sra\">NFS Zurita</a>, <a href=\"/citations?user=TBcJbCQAAAAJ&amp;hl=en&amp;oi=sra\">JT Gyory</a>, <a href=\"/citations?user=DCfe_0oAAAAJ&amp;hl=en&amp;oi=sra\">G Zhang</a>, <a href=\"/citations?user=0P9w_S0AAAAJ&amp;hl=en&amp;oi=sra\">C McComb</a>…\\xa0- Design Studies, 2022 - Elsevier</div><div class=\"gs_rs\">Although necessary for complex problem solving, such as engineering design, team agility <br>is often difficult to achieve in practice. The evolution of Artificial Intelligence (AI) affords <br>unique opportunities for supporting team problem solving. While integrating assistive AI <br>agents into human teams has at times improved team performance, it is still unclear if, how, <br>and why AI affects team agility. A large-scale human experiment answers these questions, <br>revealing that, with appropriately interfaced AIs, AI-assisted human teams enjoy improved\\xa0…</div><div class=\"gs_fl\"><a href=\"javascript:void(0)\" class=\"gs_or_sav gs_or_btn\" role=\"button\"><svg viewbox=\"0 0 15 16\" class=\"gs_or_svg\"><path d=\"M7.5 11.57l3.824 2.308-1.015-4.35 3.379-2.926-4.45-.378L7.5 2.122 5.761 6.224l-4.449.378 3.379 2.926-1.015 4.35z\"></path></svg><span class=\"gs_or_btn_lbl\">Save</span></a> <a href=\"javascript:void(0)\" class=\"gs_or_cit gs_or_btn gs_nph\" role=\"button\" aria-controls=\"gs_cit\" aria-haspopup=\"true\"><svg viewbox=\"0 0 15 16\" class=\"gs_or_svg\"><path d=\"M6.5 3.5H1.5V8.5H3.75L1.75 12.5H4.75L6.5 9V3.5zM13.5 3.5H8.5V8.5H10.75L8.75 12.5H11.75L13.5 9V3.5z\"></path></svg><span>Cite</span></a> <a href=\"/scholar?cites=12483581656711157753&amp;as_sdt=5,39&amp;sciodt=0,39&amp;hl=en\">Cited by 6</a> <a href=\"/scholar?q=related:-dfZPGCXPq0J:scholar.google.com/&amp;scioq=Decoding+the+Agility+of+Artificial+Intelligence-Assisted+Human+Design+Team&amp;hl=en&amp;as_sdt=0,39\">Related articles</a> <a href=\"/scholar?cluster=12483581656711157753&amp;hl=en&amp;as_sdt=0,39\" class=\"gs_nph\">All 4 versions</a> <a href=\"javascript:void(0)\" title=\"More\" class=\"gs_or_mor gs_oph\" role=\"button\"><svg viewbox=\"0 0 15 16\" class=\"gs_or_svg\"><path d=\"M0.75 5.5l2-2L7.25 8l-4.5 4.5-2-2L3.25 8zM7.75 5.5l2-2L14.25 8l-4.5 4.5-2-2L10.25 8z\"></path></svg></a> <a href=\"javascript:void(0)\" title=\"Fewer\" class=\"gs_or_nvi gs_or_mor\" role=\"button\"><svg viewbox=\"0 0 15 16\" class=\"gs_or_svg\"><path d=\"M7.25 5.5l-2-2L0.75 8l4.5 4.5 2-2L4.75 8zM14.25 5.5l-2-2L7.75 8l4.5 4.5 2-2L11.75 8z\"></path></svg></a></div></div></div>']\n",
      "[<Selector xpath='descendant-or-self::tr' data='<tr><th scope=\"row\" class=\"gs_cith\">M...'>, <Selector xpath='descendant-or-self::tr' data='<tr><th scope=\"row\" class=\"gs_cith\">A...'>, <Selector xpath='descendant-or-self::tr' data='<tr><th scope=\"row\" class=\"gs_cith\">C...'>, <Selector xpath='descendant-or-self::tr' data='<tr><th scope=\"row\" class=\"gs_cith\">H...'>, <Selector xpath='descendant-or-self::tr' data='<tr><th scope=\"row\" class=\"gs_cith\">V...'>]\n",
      "[\n",
      "  {\n",
      "    \"institution\": \"Vancouver\",\n",
      "    \"citation\": \"nan\"\n",
      "  }\n",
      "]\n"
     ]
    }
   ],
   "source": [
    "from parsel import Selector\n",
    "import requests, json\n",
    "params = {\n",
    "    'q': 'Decoding the Agility of Artificial Intelligence-Assisted Human Design Team', # search query\n",
    "    'hl': 'en'       # language of the search   \n",
    "}\n",
    "headers = {\n",
    "    'User-Agent': 'Mozilla/5.0 (Windows NT 10.0; Win64; x64) AppleWebKit/537.36 (KHTML, like Gecko) Chrome/105.0.0.0 Safari/537.36',\n",
    "    'referer': f\"https://scholar.google.com/scholar?hl={params['hl']}&q={params['q']}\"\n",
    "}\n",
    "# extracting citation ID from individual title\n",
    "def parsel_get_cite_ids():\n",
    "    html = requests.get('https://scholar.google.com/scholar', params=params, headers=headers)\n",
    "    soup = Selector(text=html.text)\n",
    "# returns a list of publication ID's -> U8bh6Ca9uwQJ\n",
    "    return soup.css('.gs_r.gs_or.gs_scl').getall()\n",
    "# extracting citattion data (MLA, APA...)\n",
    "def parsel_scrape_cite_results():\n",
    "    citations = []\n",
    "    print(parsel_get_cite_ids())\n",
    "    for cite_id in parsel_get_cite_ids():\n",
    "            cite_id = \"6uTWttNVvUcJ\"\n",
    "            html = requests.get(f'https://scholar.google.com/scholar?output=cite&q=info:{cite_id}:scholar.google.com', headers=headers)\n",
    "            selector = Selector(text=html.text)\n",
    "    # citations table\n",
    "            if selector.css('#gs_citt').get():\n",
    "                print(selector.css('tr'))\n",
    "                for result in selector.css('tr'):\n",
    "                    institution = result.xpath('th/text()').get()\n",
    "                    citation = result.xpath('td div/text()').get()\n",
    "    citations.append({'institution': institution, 'citation': citation})\n",
    "    return citations\n",
    "\n",
    "print(json.dumps(parsel_scrape_cite_results(), indent=2, ensure_ascii=False))\n"
   ]
  },
  {
   "cell_type": "code",
   "execution_count": null,
   "metadata": {},
   "outputs": [],
   "source": [
    "from bs4 import BeautifulSoup\n",
    "import requests, lxml, os, json\n",
    "def scrape_one_google_scholar_page():\n",
    "    # https://requests.readthedocs.io/en/latest/user/quickstart/#custom-headers\n",
    "    headers = {\n",
    "        'User-agent': 'Mozilla/5.0 (Windows NT 10.0; Win64; x64) AppleWebKit/537.36 (KHTML, like Gecko) Chrome/105.0.0.0 Safari/537.36'\n",
    "    }\n",
    "# https://requests.readthedocs.io/en/latest/user/quickstart/#passing-parameters-in-urls\n",
    "    params = {\n",
    "        'q': 'Decoding the Agility of Artificial Intelligence-Assisted Human Design Team',  # search query\n",
    "        'hl': 'en'       # language of the search\n",
    "    }\n",
    "    html = requests.get('https://scholar.google.com/scholar', headers=headers, params=params).text\n",
    "\n",
    "    soup = BeautifulSoup(html, 'lxml')\n",
    "    # JSON data will be collected here\n",
    "    data = []\n",
    "    # Container where all needed data is located\n",
    "    for result in soup.select('#6uTWttNVvUcJ , .gs_scl:nth-child(1) .gs_or_btn.gs_nph'):\n",
    "        title = result.select_one('.gs_rt').text\n",
    "        title_link = result.select_one('.gs_rt a')['href']\n",
    "        publication_info = result.select_one('.gs_a').text\n",
    "        snippet = result.select_one('.gs_rs').text\n",
    "        cited_by = result.select_one('#gs_res_ccl_mid .gs_nph+ a')['href']\n",
    "        try:\n",
    "            pdf_link = result.select_one('.gs_or_ggsm a:nth-child(1)')['href']\n",
    "        except: \n",
    "            pdf_link = None\n",
    "            \n",
    "    data.append({\n",
    "            'title': title,\n",
    "            'title_link': title_link,\n",
    "            'publication_info': publication_info,\n",
    "            'snippet': snippet,\n",
    "            'cited_by': f'https://scholar.google.com{cited_by}',\n",
    "            'related_articles': f'https://scholar.google.com{related_articles}',\n",
    "            'all_article_versions': f'https://scholar.google.com{all_article_versions}',\n",
    "            \"pdf_link\": pdf_link\n",
    "        })\n",
    "\n",
    "    print(json.dumps(data, indent = 2, ensure_ascii = False))\n",
    "# Part of the JSON Output:\n",
    "'''\n",
    "[\n",
    "  {\n",
    "    \"title\": \"“What? I thought Samsung was Japanese”: accurate or not, perceived country of origin matters\",\n",
    "    \"title_link\": \"https://www.emerald.com/insight/content/doi/10.1108/02651331111167589/full/html\",\n",
    "    \"publication_info\": \"P Magnusson, SA Westjohn… - International Marketing …, 2011 - emerald.com\",\n",
    "    \"snippet\": \"Purpose–Extensive research has shown that country‐of‐origin (COO) information significantly affects product evaluations and buying behavior. Yet recently, a competing perspective has emerged suggesting that COO effects have been inflated in prior research …\",\n",
    "    \"cited_by\": \"https://scholar.google.com/scholar?cites=341074171610121811&as_sdt=2005&sciodt=0,5&hl=en\",\n",
    "    \"related_articles\": \"https://scholar.google.com/scholar?q=related:U8bh6Ca9uwQJ:scholar.google.com/&scioq=samsung&hl=en&as_sdt=0,5\",\n",
    "    \"all_article_versions\": \"https://scholar.google.com/scholar?cluster=341074171610121811&hl=en&as_sdt=0,5\"\n",
    "  }\n",
    "]\n",
    "'''"
   ]
  },
  {
   "cell_type": "code",
   "execution_count": null,
   "metadata": {},
   "outputs": [],
   "source": [
    "# <li>Authors. <em><strong>&ldquo;<a href=\"publications/file.pdf\">Title</a>.&rdquo;</strong> Venue</em> Number (Year): Other numbers.</li>\n",
    "\n",
    "# <li>Song, B., J. T. Gyory, G. Zhang, N. F. Soria Zurita, G. Stump, J. Martin, S. Miller, C. Balon, M. Yukish, C. McComb, and J. Cagan. <em><strong>&ldquo;<a href=\"publications/SongDesignStudies2022.pdf\">Decoding the Agility of Artificial Intelligence-Assisted Human Design Teams</a>.&rdquo;</strong></em> Design Studies, Vol. 79, 10194 (33 pages), 2022. </li>"
   ]
  },
  {
   "cell_type": "markdown",
   "metadata": {},
   "source": []
  },
  {
   "cell_type": "code",
   "execution_count": null,
   "metadata": {},
   "outputs": [],
   "source": [
    "# @article{chong2022evolution,\n",
    "#   title={The Evolution and Impact of Human Confidence in Artificial Intelligence and in Themselves on AI-Assisted Decision-Making in Design},\n",
    "#   author={Chong, Leah and Raina, Ayush and Goucher-Lambert, Kosa and Kotovsky, Kenneth and Cagan, Jonathan},\n",
    "#   journal={Journal of Mechanical Design},\n",
    "#   volume={145},\n",
    "#   number={3},\n",
    "#   pages={031401},\n",
    "#   year={2022},\n",
    "#   publisher={American Society of Mechanical Engineers}\n",
    "# }"
   ]
  },
  {
   "cell_type": "code",
   "execution_count": 9,
   "metadata": {},
   "outputs": [],
   "source": []
  },
  {
   "cell_type": "code",
   "execution_count": 10,
   "metadata": {},
   "outputs": [],
   "source": []
  },
  {
   "cell_type": "code",
   "execution_count": 11,
   "metadata": {},
   "outputs": [
    {
     "name": "stdout",
     "output_type": "stream",
     "text": [
      "Encountered a data:  Song, B., J. T. Gyory, G. Zhang, N. F. Soria Zurita, G. Stump, J. Martin, S. Miller, C. Balon, M. Yukish, C. McComb, and J. Cagan. \n",
      "Encountered a data:  “\n",
      "Encountered a data:  Decoding the Agility of Artificial Intelligence-Assisted Human Design Teams\n",
      "Encountered a data:  .”\n",
      "Encountered a data:   Design Studies, Vol. 79, 10194 (33 pages), 2022. \n"
     ]
    }
   ],
   "source": [
    "parser.feed('<li>Song, B., J. T. Gyory, G. Zhang, N. F. Soria Zurita, G. Stump, J. Martin, S. Miller, C. Balon, M. Yukish, C. McComb, and J. Cagan. <em><strong>&ldquo;<a href=\"publications/SongDesignStudies2022.pdf\">Decoding the Agility of Artificial Intelligence-Assisted Human Design Teams</a>.&rdquo;</strong></em> Design Studies, Vol. 79, 10194 (33 pages), 2022. </li>')"
   ]
  },
  {
   "cell_type": "code",
   "execution_count": 15,
   "metadata": {},
   "outputs": [
    {
     "data": {
      "text/plain": [
       "' Design Studies, Vol. 79, 10194 (33 pages), 2022. '"
      ]
     },
     "execution_count": 15,
     "metadata": {},
     "output_type": "execute_result"
    }
   ],
   "source": [
    "parser.data[-1]"
   ]
  },
  {
   "cell_type": "code",
   "execution_count": 47,
   "metadata": {},
   "outputs": [],
   "source": []
  },
  {
   "cell_type": "code",
   "execution_count": 53,
   "metadata": {},
   "outputs": [
    {
     "name": "stdout",
     "output_type": "stream",
     "text": [
      "\t It is >>'Decoding the agility of artificial intelligence-assisted human design teams' article?\n",
      " y(yes)|n(no)|q(quit)^C\n",
      "Traceback (most recent call last):\n",
      "  File \"/Users/mitchfogelson/opt/miniconda3/envs/google_scholar/bin/title2bib\", line 85, in <module>\n",
      "    main()\n",
      "  File \"/Users/mitchfogelson/opt/miniconda3/envs/google_scholar/bin/title2bib\", line 71, in main\n",
      "    found, bib = get_bib_from_title(title, get_first)\n",
      "  File \"/Users/mitchfogelson/opt/miniconda3/envs/google_scholar/lib/python3.9/site-packages/title2bib/crossref.py\", line 86, in get_bib_from_title\n",
      "    found, item = get_from_title(title, get_first)\n",
      "  File \"/Users/mitchfogelson/opt/miniconda3/envs/google_scholar/lib/python3.9/site-packages/title2bib/crossref.py\", line 78, in get_from_title\n",
      "    found, item = ask_which_is(title, items)\n",
      "  File \"/Users/mitchfogelson/opt/miniconda3/envs/google_scholar/lib/python3.9/site-packages/title2bib/crossref.py\", line 23, in ask_which_is\n",
      "    w = input(question.format(\n",
      "KeyboardInterrupt\n",
      "\t It is >>'Decoding the agility of artificial intelligence-assisted human design teams' article?\n",
      " y(yes)|n(no)|q(quit)"
     ]
    }
   ],
   "source": [
    "for _ in range(5):\n",
    "    ! title2bib \"Decoding the Agility of Artificial Intelligence-Assisted Human Design Teams\" "
   ]
  },
  {
   "cell_type": "code",
   "execution_count": null,
   "metadata": {},
   "outputs": [],
   "source": []
  }
 ],
 "metadata": {
  "kernelspec": {
   "display_name": "google_scholar",
   "language": "python",
   "name": "python3"
  },
  "language_info": {
   "codemirror_mode": {
    "name": "ipython",
    "version": 3
   },
   "file_extension": ".py",
   "mimetype": "text/x-python",
   "name": "python",
   "nbconvert_exporter": "python",
   "pygments_lexer": "ipython3",
   "version": "3.9.15 (main, Nov 24 2022, 08:28:41) \n[Clang 14.0.6 ]"
  },
  "orig_nbformat": 4,
  "vscode": {
   "interpreter": {
    "hash": "d53ccd987094bc203d705d390c160005e6134e328ebc4bc248c11c1b26f0be50"
   }
  }
 },
 "nbformat": 4,
 "nbformat_minor": 2
}
